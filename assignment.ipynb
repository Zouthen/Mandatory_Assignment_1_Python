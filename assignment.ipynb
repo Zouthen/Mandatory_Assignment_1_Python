{
 "cells": [
  {
   "cell_type": "markdown",
   "metadata": {},
   "source": [
    "1. Model an organisation of employees, management and board of directors in 3 sets."
   ]
  },
  {
   "cell_type": "code",
   "execution_count": 4,
   "metadata": {},
   "outputs": [],
   "source": [
    "board_of_directors = [\"benny\", \"hans\", \"tine\", \"mille\", \"torben\", \"troels\", \"søren\"]\n",
    "management         = [\"tine\", \"trunte\", \"rane\"]\n",
    "employees          = [\"niels\", \"anna\", \"tine\", \"ole\" , \"trunte\", \"bent\", \"rane\", \"allan\", \"stine\", \"claus\", \"james\", \"lars\"]"
   ]
  },
  {
   "cell_type": "code",
   "execution_count": 5,
   "metadata": {},
   "outputs": [
    {
     "name": "stdout",
     "output_type": "stream",
     "text": [
      "Members of the board of directors who are not employees:\n",
      "benny\n",
      "hans\n",
      "mille\n",
      "torben\n",
      "troels\n",
      "søren\n"
     ]
    }
   ],
   "source": [
    "# who in the board of directors is not an employee?\n",
    "\n",
    "not_employees = []\n",
    "for director in board_of_directors:\n",
    "    # Check if the director is not in the employees list\n",
    "    if director not in employees:\n",
    "        not_employees.append(director)\n",
    "\n",
    "print(\"Members of the board of directors who are not employees:\")\n",
    "for person in not_employees:\n",
    "    print(person)"
   ]
  },
  {
   "cell_type": "code",
   "execution_count": 6,
   "metadata": {},
   "outputs": [
    {
     "name": "stdout",
     "output_type": "stream",
     "text": [
      "Members of the board of directors who are employees:\n",
      "tine\n"
     ]
    }
   ],
   "source": [
    "# who in the board of directors is also an employee?\n",
    "\n",
    "is_an_employees = []\n",
    "for director in board_of_directors:\n",
    "    # Check if the director is in the employees list\n",
    "    if director in employees:\n",
    "        is_an_employees.append(director)\n",
    "\n",
    "print(\"Members of the board of directors who are employees:\")\n",
    "for person in is_an_employees:\n",
    "    print(person)\n"
   ]
  },
  {
   "cell_type": "code",
   "execution_count": 8,
   "metadata": {},
   "outputs": [
    {
     "name": "stdout",
     "output_type": "stream",
     "text": [
      "Members of the board of directors who are also management:\n",
      "tine\n"
     ]
    }
   ],
   "source": [
    "# how many of the management is also members of the board?\n",
    "\n",
    "is_board_and_manager = []\n",
    "for director in board_of_directors:\n",
    "    # Check if the director is in the management list\n",
    "    if director in management:\n",
    "        is_board_and_manager.append(director)\n",
    "\n",
    "print(\"Members of the board of directors who are also management:\")\n",
    "for person in is_board_and_manager:\n",
    "    print(person)"
   ]
  },
  {
   "cell_type": "code",
   "execution_count": 3,
   "metadata": {},
   "outputs": [
    {
     "name": "stdout",
     "output_type": "stream",
     "text": [
      "employee who are also management:\n",
      "tine\n",
      "trunte\n",
      "rane\n"
     ]
    }
   ],
   "source": [
    "# all members of the management who are also an employee\n",
    "\n",
    "is_manager_and_employee = []\n",
    "for employee in management:\n",
    "    # Check if the manager is in the employees list\n",
    "    if employee in employees:\n",
    "        is_manager_and_employee.append(employee)\n",
    "\n",
    "print(\"employee who are also management:\")\n",
    "for person in is_manager_and_employee:\n",
    "    print(person)"
   ]
  },
  {
   "cell_type": "code",
   "execution_count": 11,
   "metadata": {},
   "outputs": [
    {
     "name": "stdout",
     "output_type": "stream",
     "text": [
      "Individuals who are employees, members of the management, and members of the board:\n",
      "tine\n"
     ]
    }
   ],
   "source": [
    "#who is an employee, member of the management and a member of the board.\n",
    "is_all_three = [person for person in board_of_directors if person in management and person in employees]\n",
    "\n",
    "print(\"Individuals who are employees, members of the management, and members of the board:\")\n",
    "for person in is_all_three:\n",
    "    print(person)\n"
   ]
  },
  {
   "cell_type": "code",
   "execution_count": 12,
   "metadata": {},
   "outputs": [
    {
     "name": "stdout",
     "output_type": "stream",
     "text": [
      "Employees who are neither members of the board nor management:\n",
      "niels\n",
      "anna\n",
      "ole\n",
      "bent\n",
      "allan\n",
      "stine\n",
      "claus\n",
      "james\n",
      "lars\n"
     ]
    }
   ],
   "source": [
    "#who of the employees are neither a member of the board or managmenet\n",
    "\n",
    "board_and_management = board_of_directors + management\n",
    "\n",
    "not_board_or_management = [employee for employee in employees if employee not in board_and_management]\n",
    "\n",
    "print(\"Employees who are neither members of the board nor management:\")\n",
    "for person in not_board_or_management:\n",
    "    print(person)"
   ]
  },
  {
   "cell_type": "markdown",
   "metadata": {},
   "source": [
    "2. Create a list of tuples from the folowing datastructure"
   ]
  },
  {
   "cell_type": "code",
   "execution_count": 15,
   "metadata": {},
   "outputs": [
    {
     "name": "stdout",
     "output_type": "stream",
     "text": [
      "[('a', 'Alpha'), ('b', 'Beta'), ('g', 'Gamma')]\n"
     ]
    }
   ],
   "source": [
    "#create a list of tuples from the following datastructure\n",
    "data_dict = {'a': 'Alpha', 'b': 'Beta', 'g': 'Gamma'}\n",
    "\n",
    "list_of_tuples = [(key, value) for key, value in data_dict.items()]\n",
    "\n",
    "print(list_of_tuples)"
   ]
  },
  {
   "cell_type": "markdown",
   "metadata": {},
   "source": [
    "3. From these 2 sets:\n",
    "Create:\n",
    "- Union\n",
    "- Symmetric Difference\n",
    "- Difference\n",
    "- disjoint"
   ]
  },
  {
   "cell_type": "code",
   "execution_count": 18,
   "metadata": {},
   "outputs": [
    {
     "name": "stdout",
     "output_type": "stream",
     "text": [
      "Union: {'æ', 'i', 'a', 'e', 'y', 'o', 'u', 'å', 'ø'}\n",
      "Symmetric Difference: {'æ', 'å', 'ø'}\n",
      "Difference (set1 - set2): set()\n",
      "Difference (set2 - set1): {'æ', 'å', 'ø'}\n",
      "Are the sets disjoint? False\n"
     ]
    }
   ],
   "source": [
    "#from these 2 sets use set method to:\n",
    "set1={'a', 'e', 'i', 'o','u', 'y'}\n",
    "set2={'a', 'e', 'i', 'o', 'u', 'y', 'æ' ,'ø', 'å'}\n",
    "\n",
    "#union\n",
    "union_set = set1.union(set2)  # or use set1 | set2\n",
    "\n",
    "#Symmetric Difference\n",
    "symmetric_difference_set = set1.symmetric_difference(set2)  # or use set1 ^ set2\n",
    "\n",
    "#Difference (set1 - set2)\n",
    "difference_set1 = set1.difference(set2)\n",
    "\n",
    "#Difference (set2 - set1)\n",
    "difference_set2 = set2.difference(set1)\n",
    "\n",
    "#disjoint\n",
    "are_disjoint = set1.isdisjoint(set2)\n",
    "\n",
    "print(\"Union:\", union_set)\n",
    "print(\"Symmetric Difference:\", symmetric_difference_set)\n",
    "print(\"Difference (set1 - set2):\", difference_set1)\n",
    "print(\"Difference (set2 - set1):\", difference_set2)\n",
    "print(\"Are the sets disjoint?\", are_disjoint)\n",
    "\n",
    "\n",
    "\n"
   ]
  },
  {
   "cell_type": "code",
   "execution_count": 19,
   "metadata": {},
   "outputs": [
    {
     "name": "stdout",
     "output_type": "stream",
     "text": [
      "Union: {'æ', 'i', 'a', 'e', 'y', 'o', 'u', 'å', 'ø'}\n",
      "Symmetric Difference: {'æ', 'å', 'ø'}\n",
      "Difference (set1 - set2): set()\n",
      "Difference (set2 - set1): {'æ', 'å', 'ø'}\n",
      "Are the sets disjoint? False\n"
     ]
    }
   ],
   "source": [
    "#from these 2 sets ude set operators to:\n",
    "set1={'a', 'e', 'i', 'o','u', 'y'}\n",
    "set2={'a', 'e', 'i', 'o', 'u', 'y', 'æ' ,'ø', 'å'}\n",
    "\n",
    "#union\n",
    "union_set = set1 | set2\n",
    "\n",
    "#symetric difference\n",
    "symmetric_difference_set = set1 ^ set2\n",
    "\n",
    "#Difference (set1 - set2)\n",
    "difference_set1 = set1 - set2\n",
    "\n",
    "#Difference (set2 - set1)\n",
    "difference_set2 = set2 - set1\n",
    "\n",
    "#Check if the sets are disjoint\n",
    "are_disjoint = not (set1 & set2)\n",
    "\n",
    "print(\"Union:\", union_set)\n",
    "print(\"Symmetric Difference:\", symmetric_difference_set)\n",
    "print(\"Difference (set1 - set2):\", difference_set1)\n",
    "print(\"Difference (set2 - set1):\", difference_set2)\n",
    "print(\"Are the sets disjoint?\", are_disjoint)\n"
   ]
  },
  {
   "cell_type": "markdown",
   "metadata": {},
   "source": [
    "4. Date Decoder"
   ]
  },
  {
   "cell_type": "code",
   "execution_count": 30,
   "metadata": {},
   "outputs": [
    {
     "name": "stdout",
     "output_type": "stream",
     "text": [
      "('1985', '03', '8')\n"
     ]
    }
   ],
   "source": [
    "#Date decoder\n",
    "\n",
    "month_dict = {\n",
    "    'Jan': '01', 'FEB': '02', 'MAR': '03', 'APR': '04',\n",
    "    'MAY': '05', 'JUN': '06', 'JUL': '07', 'AUG': '08',\n",
    "    'SEP': '09', 'OCT': '10', 'NOV': '11', 'DEC': '12'\n",
    "}\n",
    "\n",
    "def parse_date(date_str):\n",
    "    # Split the date string using the \"-\" character\n",
    "    parts = date_str.split('-')\n",
    "\n",
    "    # Extract day, month, and year parts\n",
    "    day = parts[0]\n",
    "    month = month_dict.get(parts[1], '00')  # Default to '00' if month is not found\n",
    "    year = parts[2]\n",
    "\n",
    "    # Correct the year to include all four digits if necessary\n",
    "    if len(year) == 2:\n",
    "        if int(year) >= 70:\n",
    "            year = '19' + year\n",
    "        else:\n",
    "            year = '20' + year\n",
    "\n",
    "    return (year, month, day)\n",
    "\n",
    "date_str = \"8-mar-85\"\n",
    "parsed_date = parse_date(date_str.upper())\n",
    "print(parsed_date)  # Output: ('2023', '01', '15')\n"
   ]
  },
  {
   "cell_type": "markdown",
   "metadata": {},
   "source": [
    "5. Party exercise"
   ]
  },
  {
   "cell_type": "code",
   "execution_count": 1,
   "metadata": {},
   "outputs": [
    {
     "name": "stdout",
     "output_type": "stream",
     "text": [
      "Friends who have not RSVP'd:\n",
      "Alice\n",
      "David\n",
      "Eve\n",
      "\n",
      "Friends who were not invited but RSVP'd:\n",
      "Grace\n",
      "Hank\n",
      "Frank\n",
      "\n",
      "Friends who are common in both lists:\n",
      "Bob\n",
      "Charlie\n"
     ]
    }
   ],
   "source": [
    "#Party Exercise\n",
    "\n",
    "# Define the sets of invited friends and RSVP'd friends\n",
    "invited_friends = {\"Alice\", \"Bob\", \"Charlie\", \"David\", \"Eve\"}\n",
    "rsvp_friends = {\"Bob\", \"Charlie\", \"Frank\", \"Grace\", \"Hank\"}\n",
    "\n",
    "# Find friends who have not RSVP'd\n",
    "not_rsvped = invited_friends - rsvp_friends\n",
    "\n",
    "# Find friends who were not invited but RSVP'd\n",
    "not_invited_but_rsvped = rsvp_friends - invited_friends\n",
    "\n",
    "# Find friends who are common in both lists\n",
    "common_friends = invited_friends & rsvp_friends\n",
    "\n",
    "# Print the results\n",
    "print(\"Friends who have not RSVP'd:\")\n",
    "for friend in not_rsvped:\n",
    "    print(friend)\n",
    "\n",
    "print(\"\\nFriends who were not invited but RSVP'd:\")\n",
    "for friend in not_invited_but_rsvped:\n",
    "    print(friend)\n",
    "\n",
    "print(\"\\nFriends who are common in both lists:\")\n",
    "for friend in common_friends:\n",
    "    print(friend)\n"
   ]
  },
  {
   "cell_type": "markdown",
   "metadata": {},
   "source": [
    "6. Teacher exercise"
   ]
  },
  {
   "cell_type": "code",
   "execution_count": 3,
   "metadata": {},
   "outputs": [
    {
     "name": "stdout",
     "output_type": "stream",
     "text": [
      "Students with grades higher than 85:\n",
      "Bob\n",
      "Charlie\n",
      "David\n",
      "Eve\n"
     ]
    }
   ],
   "source": [
    "# Define the dictionary of students and their grades\n",
    "student_and_grades = {\n",
    "    \"Alice\": 90,\n",
    "    \"Bob\": 78,\n",
    "    \"Charlie\": 88,\n",
    "    \"David\": 92,\n",
    "    \"Eve\": 85,\n",
    "}\n",
    "\n",
    "# Update the grades of specific students\n",
    "student_and_grades[\"Bob\"] = 87\n",
    "student_and_grades[\"Eve\"] = 91\n",
    "student_and_grades[\"Alice\"] = 60\n",
    "\n",
    "# Print the names of students with grades higher than 85\n",
    "print(\"Students with grades higher than 85:\")\n",
    "for student, grade in student_and_grades.items():\n",
    "    if grade > 85:\n",
    "        print(student)"
   ]
  }
 ],
 "metadata": {
  "kernelspec": {
   "display_name": "Python 3",
   "language": "python",
   "name": "python3"
  },
  "language_info": {
   "codemirror_mode": {
    "name": "ipython",
    "version": 3
   },
   "file_extension": ".py",
   "mimetype": "text/x-python",
   "name": "python",
   "nbconvert_exporter": "python",
   "pygments_lexer": "ipython3",
   "version": "3.11.5"
  },
  "orig_nbformat": 4
 },
 "nbformat": 4,
 "nbformat_minor": 2
}
